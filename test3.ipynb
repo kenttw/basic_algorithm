{
 "cells": [
  {
   "cell_type": "markdown",
   "metadata": {},
   "source": [
    "題目：使用 A-Z 作為 Y 軸的座標， 1-26 作為 X 軸的座標\n",
    "在這地圖上會標示出每一艘傳所在的座標位置例如 A1 B3,B2 D12\n",
    "再來是攻擊以單點來標示\n",
    "\n",
    "如果一艘船的每一個位置被打到，則標示沉沒\n",
    "反之亦然\n",
    "\n",
    "\n",
    "\n"
   ]
  },
  {
   "cell_type": "code",
   "execution_count": null,
   "metadata": {},
   "outputs": [],
   "source": [
    "def split_text(s):\n",
    "    from itertools import groupby\n",
    "    for k,g in groupby(s, str.isalpha):\n",
    "        yield ''.join(list(g))"
   ]
  },
  {
   "cell_type": "code",
   "execution_count": 2,
   "metadata": {},
   "outputs": [],
   "source": [
    "def solution(N, S, T):\n",
    "\n",
    "\n",
    "    ships = S\n",
    "\n",
    "    ships = ships.split(\",\")\n",
    "    ship_array = []\n",
    "\n",
    "    for loc in ships:\n",
    "        left_top , right_down = loc.split(\" \")\n",
    "    #     print(left_top , right_down)\n",
    "        left_top_y , left_top_x = list(split_text(left_top))\n",
    "        left_top_y = int(left_top_y) - 1\n",
    "        left_top_x = ord(left_top_x) - ord('A')\n",
    "\n",
    "        print()\n",
    "\n",
    "        right_down_y , right_down_x = list(split_text(right_down))\n",
    "        right_down_y = int(right_down_y) - 1\n",
    "        right_down_x = ord(right_down_x) - ord('A')   \n",
    "\n",
    "\n",
    "        print(left_top_y,left_top_x,right_down_y,right_down_x)\n",
    "\n",
    "\n",
    "        ship_map = set()\n",
    "        for y in range(left_top_y,right_down_y+1):\n",
    "            for x in range(left_top_x,right_down_x+1):\n",
    "    #             print(y,x)\n",
    "                ship_map.add((y,x))\n",
    "        ship_array.append(ship_map)          \n",
    "        print(\"@@@@@@@@@\")\n",
    "    T = T.split(\" \")\n",
    "    T\n",
    "    attacks = set()\n",
    "    for t in T :\n",
    "\n",
    "        attack_y,attack_x = list(split_text(t))\n",
    "        attack_y  = int(attack_y) - 1\n",
    "        attack_x  = ord(attack_x) - ord('A')\n",
    "        print(attack_y,attack_x)\n",
    "        attacks.add((attack_y,attack_x))\n",
    "\n",
    "    # count_hit ship\n",
    "    count_hit_ship = 0\n",
    "    for ship in ship_array:\n",
    "        for attack in attacks:\n",
    "            if attack in ship :\n",
    "                count_hit_ship = count_hit_ship +1\n",
    "                break\n",
    "            else:\n",
    "                pass\n",
    "    count_hit_ship\n",
    "\n",
    "    count_sunk_ship = 0\n",
    "\n",
    "    for ship in ship_array:\n",
    "        all = True\n",
    "        for yx in ship:\n",
    "\n",
    "            if yx not in attacks:\n",
    "                all = False\n",
    "\n",
    "        if all == True:\n",
    "            count_sunk_ship = count_sunk_ship + 1\n",
    "\n",
    "        return \"\" + str(count_sunk_ship) + \",\" + str(count_hit_ship)"
   ]
  },
  {
   "cell_type": "code",
   "execution_count": null,
   "metadata": {},
   "outputs": [],
   "source": []
  }
 ],
 "metadata": {
  "kernelspec": {
   "display_name": "Python 3",
   "language": "python",
   "name": "python3"
  },
  "language_info": {
   "codemirror_mode": {
    "name": "ipython",
    "version": 3
   },
   "file_extension": ".py",
   "mimetype": "text/x-python",
   "name": "python",
   "nbconvert_exporter": "python",
   "pygments_lexer": "ipython3",
   "version": "3.5.3"
  }
 },
 "nbformat": 4,
 "nbformat_minor": 2
}
