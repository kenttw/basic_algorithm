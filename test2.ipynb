{
 "cells": [
  {
   "cell_type": "markdown",
   "metadata": {},
   "source": [
    "# 題目\n",
    "給定一個括弧所組成的字串，然後分成左右兩半\n",
    "其中左半邊的左括弧數要等於右半邊的右括弧數"
   ]
  },
  {
   "cell_type": "code",
   "execution_count": 45,
   "metadata": {},
   "outputs": [],
   "source": [
    "\n",
    "\n",
    "\n",
    "def solution(S):\n",
    "    test = S\n",
    "    left_count = [0]*(len(test)+1)\n",
    "    right_count =  [0]*(len(test)+1)\n",
    "    for left in range(1,len(test)+1):\n",
    "\n",
    "        if test[left-1] == '(' : \n",
    "            left_count[left] = left_count[left - 1] + 1\n",
    "        else:\n",
    "            left_count[left] = left_count[left - 1]\n",
    "    for right in range(len(test)-1,-1,-1):\n",
    "        if test[right] == ')':\n",
    "            right_count[right] = right_count[right+1] + 1\n",
    "        else:\n",
    "            right_count[right] = right_count[right+1]\n",
    "    for i in range(len(right_count)):\n",
    "        if left_count[i] == right_count[i]:\n",
    "            return i"
   ]
  },
  {
   "cell_type": "code",
   "execution_count": 46,
   "metadata": {},
   "outputs": [
    {
     "data": {
      "text/plain": [
       "4"
      ]
     },
     "execution_count": 46,
     "metadata": {},
     "output_type": "execute_result"
    }
   ],
   "source": [
    "solution('(())))(')"
   ]
  },
  {
   "cell_type": "code",
   "execution_count": 48,
   "metadata": {},
   "outputs": [
    {
     "data": {
      "text/plain": [
       "2"
      ]
     },
     "execution_count": 48,
     "metadata": {},
     "output_type": "execute_result"
    }
   ],
   "source": [
    "solution('(())')"
   ]
  },
  {
   "cell_type": "code",
   "execution_count": 49,
   "metadata": {},
   "outputs": [
    {
     "data": {
      "text/plain": [
       "2"
      ]
     },
     "execution_count": 49,
     "metadata": {},
     "output_type": "execute_result"
    }
   ],
   "source": [
    "solution('))')"
   ]
  }
 ],
 "metadata": {
  "kernelspec": {
   "display_name": "Python 3",
   "language": "python",
   "name": "python3"
  },
  "language_info": {
   "codemirror_mode": {
    "name": "ipython",
    "version": 3
   },
   "file_extension": ".py",
   "mimetype": "text/x-python",
   "name": "python",
   "nbconvert_exporter": "python",
   "pygments_lexer": "ipython3",
   "version": "3.5.3"
  }
 },
 "nbformat": 4,
 "nbformat_minor": 2
}
