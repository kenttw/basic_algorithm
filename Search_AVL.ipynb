{
 "cells": [
  {
   "cell_type": "code",
   "execution_count": 1,
   "metadata": {},
   "outputs": [],
   "source": [
    "test_seq = [7,3,4,5,1,1,3,22,11,1,33,2,9]"
   ]
  },
  {
   "cell_type": "code",
   "execution_count": 12,
   "metadata": {},
   "outputs": [],
   "source": [
    "class MyTreeNode(object):\n",
    "    def __init__(self, x):\n",
    "        self.key = x\n",
    "        self.left = None\n",
    "        self.right = None\n",
    "        self.parent = None\n",
    "        self.color = 'black'\n",
    "        self.size=None\n",
    "    def __str__(self):\n",
    "        return str(self.key)\n",
    "class MyTree:\n",
    "    def __init__(self):\n",
    "        self.nil = MyTreeNode(0)\n",
    "        self.root = self.nil\n",
    "        \n",
    "    def insert(self,value):\n",
    "        pass\n",
    "    def findNode(self,node,value):\n",
    "        if \n",
    "     \n",
    "            \n",
    "        \n",
    "    \n",
    "def traverse(node):\n",
    "    if node == None : return \"\"\n",
    "    return str(node.key) + \"\\r\\n\" + traverse(node.left) + \" \" + traverse(node.right)\n",
    "        \n",
    "        \n",
    "        "
   ]
  },
  {
   "cell_type": "code",
   "execution_count": 16,
   "metadata": {},
   "outputs": [],
   "source": [
    "mytree = MyTree()\n"
   ]
  },
  {
   "cell_type": "code",
   "execution_count": 15,
   "metadata": {},
   "outputs": [
    {
     "name": "stdout",
     "output_type": "stream",
     "text": [
      "0 \n",
      " \n"
     ]
    }
   ],
   "source": [
    "print(traverse(mytree.root))"
   ]
  },
  {
   "cell_type": "code",
   "execution_count": 15,
   "metadata": {},
   "outputs": [],
   "source": [
    "def insert(node,value):\n",
    "    if value > node.key :\n",
    "        if node.left ==None and node.right ==None:\n",
    "            new_node =MyTreeNode(value)\n",
    "            node.right = new_node"
   ]
  },
  {
   "cell_type": "code",
   "execution_count": 16,
   "metadata": {},
   "outputs": [],
   "source": [
    "insert(mytree.root,4)\n",
    "    \n",
    "    "
   ]
  },
  {
   "cell_type": "code",
   "execution_count": null,
   "metadata": {},
   "outputs": [],
   "source": []
  }
 ],
 "metadata": {
  "kernelspec": {
   "display_name": "Python 3",
   "language": "python",
   "name": "python3"
  },
  "language_info": {
   "codemirror_mode": {
    "name": "ipython",
    "version": 3
   },
   "file_extension": ".py",
   "mimetype": "text/x-python",
   "name": "python",
   "nbconvert_exporter": "python",
   "pygments_lexer": "ipython3",
   "version": "3.5.3"
  }
 },
 "nbformat": 4,
 "nbformat_minor": 2
}
