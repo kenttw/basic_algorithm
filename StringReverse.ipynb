{
 "cells": [
  {
   "cell_type": "markdown",
   "metadata": {},
   "source": [
    "給定一個字符串，要求把字符串前面的若干個字符移動到字符串的尾部，如把字符串“ABCDEF”前面的2個字符“A”和“B”移動到字符串的尾部，使得原字符串變成字符串“cdefab”。請寫一個函數完成此功能，要求對長度為n的字符串操作的時間複雜度為O（n），空間複雜度為O（1）"
   ]
  },
  {
   "cell_type": "code",
   "execution_count": 1,
   "metadata": {},
   "outputs": [],
   "source": [
    "origin_str = 'a b c d e f'.split(\" \")"
   ]
  },
  {
   "cell_type": "markdown",
   "metadata": {},
   "source": [
    "# Solution 1"
   ]
  },
  {
   "cell_type": "code",
   "execution_count": 2,
   "metadata": {},
   "outputs": [
    {
     "data": {
      "text/plain": [
       "['c', 'd', 'e', 'f', 'a', 'b']"
      ]
     },
     "execution_count": 2,
     "metadata": {},
     "output_type": "execute_result"
    }
   ],
   "source": [
    "def reverse(s):\n",
    "    t  = s[0]\n",
    "    for i in range(0,len(s)-1):\n",
    "        s[i] = s[i+1]\n",
    "    s[i+1] =t\n",
    "    return s\n",
    "result = None\n",
    "    \n",
    "for _ in range(2):\n",
    "    origin_str  = reverse(origin_str)\n",
    "\n",
    "\n",
    "origin_str   "
   ]
  },
  {
   "cell_type": "markdown",
   "metadata": {},
   "source": [
    "# Solution 2\n"
   ]
  },
  {
   "cell_type": "code",
   "execution_count": 3,
   "metadata": {},
   "outputs": [
    {
     "data": {
      "text/plain": [
       "['b', 'a', 'f', 'e', 'd', 'c']"
      ]
     },
     "execution_count": 3,
     "metadata": {},
     "output_type": "execute_result"
    }
   ],
   "source": [
    "def reverse(s,start,end):\n",
    "#     start = 0 \n",
    "#     end = len(s) -1\n",
    "    \n",
    "    while (start < end):\n",
    "        temp = s[start]\n",
    "        s[start] = s[end]\n",
    "        s[end] = temp\n",
    "        start+=1\n",
    "        end-=1\n",
    "    return s\n",
    "reverse(origin_str,0,len(origin_str)-1)"
   ]
  },
  {
   "cell_type": "code",
   "execution_count": 4,
   "metadata": {},
   "outputs": [
    {
     "name": "stdout",
     "output_type": "stream",
     "text": [
      "['b', 'a', 'c', 'd', 'e', 'f']\n",
      "['b', 'a', 'f', 'e', 'd', 'c']\n",
      "['c', 'd', 'e', 'f', 'a', 'b']\n"
     ]
    }
   ],
   "source": [
    "origin_str = 'a b c d e f'.split(\" \")\n",
    "reverse(origin_str,0,1)\n",
    "print(origin_str)\n",
    "reverse(origin_str,2,len(origin_str)-1)\n",
    "print(origin_str)\n",
    "\n",
    "reverse(origin_str,0,len(origin_str)-1)\n",
    "print(origin_str)\n",
    "\n"
   ]
  },
  {
   "cell_type": "code",
   "execution_count": null,
   "metadata": {},
   "outputs": [],
   "source": []
  },
  {
   "cell_type": "code",
   "execution_count": null,
   "metadata": {},
   "outputs": [],
   "source": []
  }
 ],
 "metadata": {
  "kernelspec": {
   "display_name": "Python 3",
   "language": "python",
   "name": "python3"
  },
  "language_info": {
   "codemirror_mode": {
    "name": "ipython",
    "version": 3
   },
   "file_extension": ".py",
   "mimetype": "text/x-python",
   "name": "python",
   "nbconvert_exporter": "python",
   "pygments_lexer": "ipython3",
   "version": "3.5.3"
  }
 },
 "nbformat": 4,
 "nbformat_minor": 2
}
