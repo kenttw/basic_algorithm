{
 "cells": [
  {
   "cell_type": "markdown",
   "metadata": {},
   "source": [
    "# 題目: 字母集包含判斷\n",
    "給定兩個分別由字母組成的字符串A和字符串B，字符串B的長度比字符串A短。請問，如何最快地判斷字符串B中所有字母是否都在字符串A裡？\n",
    "為了簡單起見，我們規定輸入的字符串只包含大寫英文字母，請實現函數bool StringContains(string &A, string &B)\n",
    "比如，如果是下面兩個字符串：\n",
    "String 1：ABCD\n",
    "String 2：BAD\n",
    "答案是true，即String2裡的字母在String1裡也都有，或者說String2是String1的真子集。\n",
    "如果是下面兩個字符串：\n",
    "String 1：ABCD\n",
    "String 2：BCE\n",
    "答案是false，因為字符串String2裡的E字母不在字符串String1裡。\n",
    "\n",
    "同時，如果string1：ABCD，string 2：AA，同樣返回true。"
   ]
  },
  {
   "cell_type": "markdown",
   "metadata": {},
   "source": [
    "## solution 1"
   ]
  },
  {
   "cell_type": "code",
   "execution_count": 1,
   "metadata": {},
   "outputs": [],
   "source": [
    "string1 = \"A B C D\".split(\" \")\n",
    "string2 = \"A A\".split(\" \")\n"
   ]
  },
  {
   "cell_type": "code",
   "execution_count": 7,
   "metadata": {},
   "outputs": [
    {
     "data": {
      "text/plain": [
       "True"
      ]
     },
     "execution_count": 7,
     "metadata": {},
     "output_type": "execute_result"
    }
   ],
   "source": [
    "def check():\n",
    "    for w1 in string2:\n",
    "        for w2 in string1:\n",
    "            if w2 == w1:\n",
    "                return True\n",
    "    return False\n",
    "check()"
   ]
  },
  {
   "cell_type": "code",
   "execution_count": null,
   "metadata": {},
   "outputs": [],
   "source": []
  }
 ],
 "metadata": {
  "kernelspec": {
   "display_name": "Python 3",
   "language": "python",
   "name": "python3"
  },
  "language_info": {
   "codemirror_mode": {
    "name": "ipython",
    "version": 3
   },
   "file_extension": ".py",
   "mimetype": "text/x-python",
   "name": "python",
   "nbconvert_exporter": "python",
   "pygments_lexer": "ipython3",
   "version": "3.6.3"
  }
 },
 "nbformat": 4,
 "nbformat_minor": 2
}
