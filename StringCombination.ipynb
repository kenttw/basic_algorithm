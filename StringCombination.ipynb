{
 "cells": [
  {
   "cell_type": "markdown",
   "metadata": {},
   "source": [
    "# 字符串的全排列\n",
    "題目描述\n",
    "輸入一個字符串，打印出該字符串中字符的所有排列。\n",
    "例如輸入字符串abc，則輸出由字符a、b、c 所能排列出來的所有字符串\n",
    "\n",
    "abc、acb、bac、bca、cab 和 cba。"
   ]
  },
  {
   "cell_type": "code",
   "execution_count": 18,
   "metadata": {},
   "outputs": [],
   "source": [
    "string1 = \"a b c d\".split(\" \") "
   ]
  },
  {
   "cell_type": "code",
   "execution_count": 23,
   "metadata": {},
   "outputs": [],
   "source": [
    "prefix = \"\"\n",
    "combination = []\n",
    "\n",
    "def gen(prefix,post):\n",
    "    if len(post) == 0 : \n",
    "        combination.append(\"\".join(prefix))\n",
    "        return \n",
    "    c1 = prefix + post\n",
    "    combination.append(\"\".join(c1))\n",
    "    c2 = post + prefix\n",
    "    combination.append(\"\".join(c2))\n",
    "    gen(prefix+[post[0]],post[1:])\n"
   ]
  },
  {
   "cell_type": "code",
   "execution_count": 24,
   "metadata": {},
   "outputs": [],
   "source": [
    "gen([],string1)"
   ]
  },
  {
   "cell_type": "code",
   "execution_count": 26,
   "metadata": {},
   "outputs": [
    {
     "data": {
      "text/plain": [
       "['abcd', 'abcd', 'abcd', 'bcda', 'abcd', 'cdab', 'abcd', 'dabc', 'abcd']"
      ]
     },
     "execution_count": 26,
     "metadata": {},
     "output_type": "execute_result"
    }
   ],
   "source": [
    "combination"
   ]
  }
 ],
 "metadata": {
  "kernelspec": {
   "display_name": "Python 3",
   "language": "python",
   "name": "python3"
  },
  "language_info": {
   "codemirror_mode": {
    "name": "ipython",
    "version": 3
   },
   "file_extension": ".py",
   "mimetype": "text/x-python",
   "name": "python",
   "nbconvert_exporter": "python",
   "pygments_lexer": "ipython3",
   "version": "3.5.3"
  }
 },
 "nbformat": 4,
 "nbformat_minor": 2
}
