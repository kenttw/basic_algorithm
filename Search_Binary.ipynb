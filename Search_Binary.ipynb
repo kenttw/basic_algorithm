{
 "cells": [
  {
   "cell_type": "code",
   "execution_count": 9,
   "metadata": {},
   "outputs": [],
   "source": [
    "import  random\n"
   ]
  },
  {
   "cell_type": "code",
   "execution_count": 31,
   "metadata": {},
   "outputs": [
    {
     "data": {
      "text/plain": [
       "[0, 4, 8, 11, 16, 18, 21, 26, 28, 29, 33]"
      ]
     },
     "execution_count": 31,
     "metadata": {},
     "output_type": "execute_result"
    }
   ],
   "source": [
    "vs = []\n",
    "prev = 0\n",
    "for _ in range(11):\n",
    "    v = random.randint(1,5)\n",
    "    vs.append(prev) \n",
    "    prev += v\n",
    "vs"
   ]
  },
  {
   "cell_type": "code",
   "execution_count": 33,
   "metadata": {},
   "outputs": [
    {
     "name": "stdout",
     "output_type": "stream",
     "text": [
      "(0, 0)\n",
      "(1, 4)\n",
      "(2, 8)\n",
      "(3, 11)\n",
      "(4, 16)\n",
      "(5, 18)\n",
      "(6, 21)\n",
      "(7, 26)\n",
      "(8, 28)\n",
      "(9, 29)\n",
      "(10, 33)\n"
     ]
    },
    {
     "data": {
      "text/plain": [
       "'None'"
      ]
     },
     "execution_count": 33,
     "metadata": {},
     "output_type": "execute_result"
    }
   ],
   "source": [
    "\n",
    "def search(test_v ):\n",
    "    left = 0 \n",
    "    right = len(vs) -1\n",
    "\n",
    "    while(left<=right):\n",
    "        mid = int((left + right) /2)\n",
    "\n",
    "        if test_v == vs[mid] : \n",
    "            return (mid,vs[mid])\n",
    "        elif test_v < vs[mid] :\n",
    "            right = mid - 1\n",
    "        elif test_v > vs[mid] :\n",
    "            left = mid + 1\n",
    "    return \"None\"\n",
    "\n",
    "\n",
    "for test_v in vs:\n",
    "    print(search(test_v))\n",
    "search(22)"
   ]
  },
  {
   "cell_type": "code",
   "execution_count": null,
   "metadata": {},
   "outputs": [],
   "source": []
  }
 ],
 "metadata": {
  "kernelspec": {
   "display_name": "Python 3",
   "language": "python",
   "name": "python3"
  },
  "language_info": {
   "codemirror_mode": {
    "name": "ipython",
    "version": 3
   },
   "file_extension": ".py",
   "mimetype": "text/x-python",
   "name": "python",
   "nbconvert_exporter": "python",
   "pygments_lexer": "ipython3",
   "version": "3.5.3"
  }
 },
 "nbformat": 4,
 "nbformat_minor": 2
}
