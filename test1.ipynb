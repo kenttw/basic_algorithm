{
 "cells": [
  {
   "cell_type": "markdown",
   "metadata": {},
   "source": [
    "# 題目\n",
    "計算兩個字串的差異，然後算出這兩個字串，分別需要再加上多少字之後，才能變成一樣\n",
    "e.q. (apple,pear) => 1(r) + 2(l,p)\n"
   ]
  },
  {
   "cell_type": "code",
   "execution_count": 43,
   "metadata": {},
   "outputs": [
    {
     "data": {
      "text/plain": [
       "[0, 0, 0, 0, 0, 0, 0, 0, 0, 0, 0, 0, 0, 0, 0, 0, 0, 0, 0, 0, 0, 0, 0, 0, 0]"
      ]
     },
     "execution_count": 43,
     "metadata": {},
     "output_type": "execute_result"
    }
   ],
   "source": [
    "w_counter = [0]*25\n"
   ]
  },
  {
   "cell_type": "code",
   "execution_count": 2,
   "metadata": {},
   "outputs": [],
   "source": [
    "def solution(m = 'apple',n ='pear'):\n",
    "    \n",
    "    w_counter = [0]*25\n",
    "\n",
    "    m = m.lower()\n",
    "    n = n.lower()\n",
    "    m_dict = {}\n",
    "    n_dict = {}\n",
    "\n",
    "    for w in m :\n",
    "        index = ord(w) - ord('a')\n",
    "        w_counter[index] =  w_counter[index] + 1\n",
    "    for w in n :\n",
    "        index = ord(w) - ord('a')\n",
    "\n",
    "        w_counter[index] = w_counter[index] - 1\n",
    "    \n",
    "    diff = 0\n",
    "    \n",
    "    for v in w_counter:\n",
    "        diff = diff + abs(v)\n",
    "    return diff\n",
    "\n",
    "\n"
   ]
  },
  {
   "cell_type": "code",
   "execution_count": 3,
   "metadata": {},
   "outputs": [],
   "source": [
    "assert solution() ==3\n",
    "\n",
    "        \n"
   ]
  },
  {
   "cell_type": "code",
   "execution_count": 35,
   "metadata": {},
   "outputs": [
    {
     "data": {
      "text/plain": [
       "3"
      ]
     },
     "execution_count": 35,
     "metadata": {},
     "output_type": "execute_result"
    }
   ],
   "source": []
  }
 ],
 "metadata": {
  "kernelspec": {
   "display_name": "Python 3",
   "language": "python",
   "name": "python3"
  },
  "language_info": {
   "codemirror_mode": {
    "name": "ipython",
    "version": 3
   },
   "file_extension": ".py",
   "mimetype": "text/x-python",
   "name": "python",
   "nbconvert_exporter": "python",
   "pygments_lexer": "ipython3",
   "version": "3.5.3"
  }
 },
 "nbformat": 4,
 "nbformat_minor": 2
}
